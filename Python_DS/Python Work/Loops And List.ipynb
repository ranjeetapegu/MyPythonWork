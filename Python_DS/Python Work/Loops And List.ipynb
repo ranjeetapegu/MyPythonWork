{
 "cells": [
  {
   "cell_type": "code",
   "execution_count": 24,
   "metadata": {
    "collapsed": false
   },
   "outputs": [
    {
     "name": "stdout",
     "output_type": "stream",
     "text": [
      "profit after taxes[1.76, 1.34, -2.6, -2.04, -0.42, 5.09, 5.75, 2.76, 2.33, -1.57, 0.46, 8.14]\n",
      "profit margin [0.12, 0.18, -0.3, -0.22, -0.05, 0.63, 0.5, 0.28, 0.23, -0.11, 0.04, 0.53]\n",
      "Avg yearly profit = 2.5\n",
      "8.14\n",
      "good months are [6, 7, 8, 12]\n",
      "bad months [1, 2, 3, 4, 5, 9, 10, 11]\n",
      "best month 11\n",
      "worst month 2\n"
     ]
    }
   ],
   "source": [
    "#Data \n",
    "revenue = [14574.49, 7606.46, 8611.41, 9175.41, 8058.65, 8105.44, 11496.28, 9766.09, 10305.32, 14379.96, 10713.97, 15433.50]\n",
    "expenses = [12051.82, 5695.07, 12319.20, 12089.72, 8658.57, 840.20, 3285.73, 5821.12, 6976.93, 16618.61, 10054.37, 3803.96]\n",
    "\n",
    "counter = 0\n",
    "profit =[]\n",
    "while counter < 12:\n",
    "    profit.append(round((revenue[counter]-expenses[counter])/1000,2))\n",
    "    counter = counter + 1\n",
    "profit\n",
    "#profit after taxes\n",
    "profit_at = [round(i * (0.7),2) for i in profit]\n",
    "print(\"profit after taxes\" + str(profit_at))\n",
    "\n",
    "profit_margin =[]\n",
    "for i in range(0,12):\n",
    "    profit_margin.append(round(profit_at[i]*1000/revenue[i],2))\n",
    "print(\"profit margin \" + str(profit_margin))\n",
    "# Mean profit   \n",
    "mean_profit =round(sum(profit)/12,2)\n",
    "print(\"Avg yearly profit = \"+ str(mean_profit))\n",
    "# Good Months\n",
    "mon = 0\n",
    "good_mons = []\n",
    "bad_mons =[]\n",
    "print(max(profit_at))\n",
    "while mon < 12 :\n",
    "    if profit_at[mon] > mean_profit:\n",
    "        good_mons.append(mon+1)\n",
    "        if profit_at[mon] == max(profit_at):\n",
    "            max_mon = mon\n",
    "    else:\n",
    "        bad_mons.append(mon + 1)\n",
    "        if profit_at[mon] == min(profit_at):\n",
    "            min_mon=mon\n",
    "    mon = mon+1\n",
    "print(\"good months are \" + str(good_mons));\n",
    "print(\"bad months \" + str(bad_mons));\n",
    "print(\"best month \" + str(max_mon))\n",
    "print(\"worst month \" + str(min_mon))"
   ]
  },
  {
   "cell_type": "code",
   "execution_count": 25,
   "metadata": {
    "collapsed": false
   },
   "outputs": [
    {
     "data": {
      "text/plain": [
       "[2, 3, 4, 5, 6, 7, 8, 9, 10]"
      ]
     },
     "execution_count": 25,
     "metadata": {},
     "output_type": "execute_result"
    }
   ],
   "source": [
    "list(range(2,11))"
   ]
  },
  {
   "cell_type": "code",
   "execution_count": 37,
   "metadata": {
    "collapsed": false
   },
   "outputs": [
    {
     "data": {
      "text/plain": [
       "['a', 'b', 'c', 'd', 'e', 'f']"
      ]
     },
     "execution_count": 37,
     "metadata": {},
     "output_type": "execute_result"
    }
   ],
   "source": [
    "l1 = [20, 'a', 21, 'b', 22, 'c', 23, 'd', 24, 'e', 25, 'f']\n",
    "l1[1::2]\n",
    "#l1[1:12:2]\n",
    "#l1[-1:-12:-2]\n",
    "#l1[-11::2]\n"
   ]
  }
 ],
 "metadata": {
  "kernelspec": {
   "display_name": "Python 3",
   "language": "python",
   "name": "python3"
  },
  "language_info": {
   "codemirror_mode": {
    "name": "ipython",
    "version": 3
   },
   "file_extension": ".py",
   "mimetype": "text/x-python",
   "name": "python",
   "nbconvert_exporter": "python",
   "pygments_lexer": "ipython3",
   "version": "3.6.0"
  }
 },
 "nbformat": 4,
 "nbformat_minor": 1
}
